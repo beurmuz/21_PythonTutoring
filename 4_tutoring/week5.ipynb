{
 "cells": [
  {
   "cell_type": "markdown",
   "metadata": {},
   "source": [
    "# 정렬 알고리즘 - 버블정렬"
   ]
  },
  {
   "cell_type": "markdown",
   "metadata": {},
   "source": [
    "## 실습 1번"
   ]
  },
  {
   "cell_type": "code",
   "execution_count": 41,
   "metadata": {},
   "outputs": [
    {
     "name": "stdout",
     "output_type": "stream",
     "text": [
      "주어진 문자열 : A STRING SEARCHING EXAMPLE CONSISTING OF STING\n",
      "찾고자 하는 패턴 : STING\n",
      "\n",
      "Matched index 32\n",
      "Matched index 41\n",
      "Finish !!!\n"
     ]
    }
   ],
   "source": [
    "pstr = \"A STRING SEARCHING EXAMPLE CONSISTING OF STING\"\n",
    "pattern = \"STING\"\n",
    "\n",
    "print(\"주어진 문자열 :\", pstr)\n",
    "print(\"찾고자 하는 패턴 :\", pattern)\n",
    "print() # 엔터 \n",
    "ssize = len(pstr) # 주어진 문자열의 길이\n",
    "psize = len(pattern) # 패턴 길이\n",
    "\n",
    "# print(ssize)\n",
    "# print(psize)\n",
    "\n",
    "for i in range(ssize): # 문자열의 길이까지 반복될 수 있도록\n",
    "    if len(pstr[i:])<psize: # 남은 문자열의 길이가 패턴 길이보다 작으면 프로그램 종료\n",
    "        print(\"Finish !!!\")\n",
    "        break\n",
    "        \n",
    "    cnt=0 # 문자열과 패턴의 일치하는 개수 카운트 변수\n",
    "    \n",
    "    for j in range(psize): # 패턴 길이까지 반복 \n",
    "        if pstr[i+j]==pattern[j]:\n",
    "            cnt+=1 # 일치되는 문자열 개수 카운트\n",
    "            \n",
    "    if cnt==psize: # 일치하는 개수와 패턴의 길이가 같으면\n",
    "        print(\"Matched index\", i) # 매칭\n"
   ]
  },
  {
   "cell_type": "markdown",
   "metadata": {},
   "source": [
    "## 과제 1번"
   ]
  },
  {
   "cell_type": "code",
   "execution_count": 40,
   "metadata": {},
   "outputs": [
    {
     "name": "stdout",
     "output_type": "stream",
     "text": [
      "주어진 문자열 : THE ONLY THING WORSE THAN STARTING SOMETHING AND FAILING IS NOT STARTING SOMETHING\n",
      "찾고자 하는 패턴 : THING\n",
      "\n",
      "Matched index 9\n",
      "Matched index 39\n",
      "Matched index 77\n",
      "Finish !!!\n"
     ]
    }
   ],
   "source": [
    "pstr = \"THE ONLY THING WORSE THAN STARTING SOMETHING AND FAILING IS NOT STARTING SOMETHING\"\n",
    "pattern = \"THING\"\n",
    "\n",
    "print(\"주어진 문자열 :\", pstr)\n",
    "print(\"찾고자 하는 패턴 :\", pattern)\n",
    "print() # 엔터 \n",
    "ssize = len(pstr) # 주어진 문자열의 길이\n",
    "psize = len(pattern) # 패턴 길이\n",
    "\n",
    "# print(ssize)\n",
    "# print(psize)\n",
    "\n",
    "for i in range(ssize): # 문자열의 길이까지 반복될 수 있도록\n",
    "    if len(pstr[i:])<psize: # 남은 문자열의 길이가 패턴 길이보다 작으면 프로그램 종료\n",
    "        print(\"Finish !!!\")\n",
    "        break\n",
    "        \n",
    "    cnt=0 # 문자열과 패턴의 일치하는 개수 카운트 변수\n",
    "    \n",
    "    for j in range(psize): # 패턴 길이까지 반복 \n",
    "        if pstr[i+j]==pattern[j]:\n",
    "            cnt+=1 # 일치되는 문자열 개수 카운트\n",
    "            \n",
    "    if cnt==psize: # 일치하는 개수와 패턴의 길이가 같으면\n",
    "        print(\"Matched index\", i) # 매칭\n"
   ]
  },
  {
   "cell_type": "markdown",
   "metadata": {},
   "source": [
    "## 실습 2번"
   ]
  },
  {
   "cell_type": "code",
   "execution_count": 39,
   "metadata": {},
   "outputs": [
    {
     "name": "stdout",
     "output_type": "stream",
     "text": [
      "--------------------\n",
      "탕수육 유린기 팔보채\n",
      "탕수육 유린기 유산슬\n",
      "탕수육 유린기 라조기\n",
      "탕수육 유린기 고추잡채\n",
      "탕수육 유린기 깐풍기\n",
      "탕수육 유린기 깐쇼새우\n",
      "탕수육 팔보채 유산슬\n",
      "탕수육 팔보채 라조기\n",
      "탕수육 팔보채 고추잡채\n",
      "탕수육 팔보채 깐풍기\n",
      "탕수육 팔보채 깐쇼새우\n",
      "탕수육 유산슬 라조기\n",
      "탕수육 유산슬 고추잡채\n",
      "탕수육 유산슬 깐풍기\n",
      "탕수육 유산슬 깐쇼새우\n",
      "탕수육 라조기 고추잡채\n",
      "탕수육 라조기 깐풍기\n",
      "탕수육 라조기 깐쇼새우\n",
      "탕수육 고추잡채 깐풍기\n",
      "탕수육 고추잡채 깐쇼새우\n",
      "탕수육 깐풍기 깐쇼새우\n",
      "--------------------\n",
      "유린기 팔보채 유산슬\n",
      "유린기 팔보채 라조기\n",
      "유린기 팔보채 고추잡채\n",
      "유린기 팔보채 깐풍기\n",
      "유린기 팔보채 깐쇼새우\n",
      "유린기 유산슬 라조기\n",
      "유린기 유산슬 고추잡채\n",
      "유린기 유산슬 깐풍기\n",
      "유린기 유산슬 깐쇼새우\n",
      "유린기 라조기 고추잡채\n",
      "유린기 라조기 깐풍기\n",
      "유린기 라조기 깐쇼새우\n",
      "유린기 고추잡채 깐풍기\n",
      "유린기 고추잡채 깐쇼새우\n",
      "유린기 깐풍기 깐쇼새우\n",
      "--------------------\n",
      "팔보채 유산슬 라조기\n",
      "팔보채 유산슬 고추잡채\n",
      "팔보채 유산슬 깐풍기\n",
      "팔보채 유산슬 깐쇼새우\n",
      "팔보채 라조기 고추잡채\n",
      "팔보채 라조기 깐풍기\n",
      "팔보채 라조기 깐쇼새우\n",
      "팔보채 고추잡채 깐풍기\n",
      "팔보채 고추잡채 깐쇼새우\n",
      "팔보채 깐풍기 깐쇼새우\n",
      "--------------------\n",
      "유산슬 라조기 고추잡채\n",
      "유산슬 라조기 깐풍기\n",
      "유산슬 라조기 깐쇼새우\n",
      "유산슬 고추잡채 깐풍기\n",
      "유산슬 고추잡채 깐쇼새우\n",
      "유산슬 깐풍기 깐쇼새우\n",
      "--------------------\n",
      "라조기 고추잡채 깐풍기\n",
      "라조기 고추잡채 깐쇼새우\n",
      "라조기 깐풍기 깐쇼새우\n",
      "--------------------\n",
      "고추잡채 깐풍기 깐쇼새우\n",
      "--------------------\n",
      "--------------------\n"
     ]
    }
   ],
   "source": [
    "menu=[\"탕수육\", \"유린기\", \"팔보채\", \"유산슬\", \"라조기\", \"고추잡채\", \"깐풍기\", \"깐쇼새우\"] # 8개 메뉴\n",
    "lengthMenu = len(menu)\n",
    "\n",
    "for i in range(0, lengthMenu): # i=0\n",
    "    print(\"--------------------\") # j=i+1 = 1\n",
    "    for j in range(i+1, lengthMenu):\n",
    "        for k in range(j+1, lengthMenu): # k=j+1 = 2\n",
    "            print(menu[i], menu[j], menu[k])"
   ]
  },
  {
   "cell_type": "markdown",
   "metadata": {},
   "source": [
    "## 과제 2번"
   ]
  },
  {
   "cell_type": "code",
   "execution_count": 38,
   "metadata": {},
   "outputs": [
    {
     "name": "stdout",
     "output_type": "stream",
     "text": [
      "문제해결과알고리즘 AI활용 데이터분석 머신러닝\n",
      "문제해결과알고리즘 AI활용 데이터분석 딥러닝\n",
      "문제해결과알고리즘 AI활용 데이터분석 빅데이터\n",
      "문제해결과알고리즘 AI활용 데이터분석 캡스톤\n",
      "문제해결과알고리즘 AI활용 머신러닝 딥러닝\n",
      "문제해결과알고리즘 AI활용 머신러닝 빅데이터\n",
      "문제해결과알고리즘 AI활용 머신러닝 캡스톤\n",
      "문제해결과알고리즘 AI활용 딥러닝 빅데이터\n",
      "문제해결과알고리즘 AI활용 딥러닝 캡스톤\n",
      "문제해결과알고리즘 AI활용 빅데이터 캡스톤\n",
      "문제해결과알고리즘 데이터분석 머신러닝 딥러닝\n",
      "문제해결과알고리즘 데이터분석 머신러닝 빅데이터\n",
      "문제해결과알고리즘 데이터분석 머신러닝 캡스톤\n",
      "문제해결과알고리즘 데이터분석 딥러닝 빅데이터\n",
      "문제해결과알고리즘 데이터분석 딥러닝 캡스톤\n",
      "문제해결과알고리즘 데이터분석 빅데이터 캡스톤\n",
      "문제해결과알고리즘 머신러닝 딥러닝 빅데이터\n",
      "문제해결과알고리즘 머신러닝 딥러닝 캡스톤\n",
      "문제해결과알고리즘 머신러닝 빅데이터 캡스톤\n",
      "문제해결과알고리즘 딥러닝 빅데이터 캡스톤\n",
      "AI활용 데이터분석 머신러닝 딥러닝\n",
      "AI활용 데이터분석 머신러닝 빅데이터\n",
      "AI활용 데이터분석 머신러닝 캡스톤\n",
      "AI활용 데이터분석 딥러닝 빅데이터\n",
      "AI활용 데이터분석 딥러닝 캡스톤\n",
      "AI활용 데이터분석 빅데이터 캡스톤\n",
      "AI활용 머신러닝 딥러닝 빅데이터\n",
      "AI활용 머신러닝 딥러닝 캡스톤\n",
      "AI활용 머신러닝 빅데이터 캡스톤\n",
      "AI활용 딥러닝 빅데이터 캡스톤\n",
      "데이터분석 머신러닝 딥러닝 빅데이터\n",
      "데이터분석 머신러닝 딥러닝 캡스톤\n",
      "데이터분석 머신러닝 빅데이터 캡스톤\n",
      "데이터분석 딥러닝 빅데이터 캡스톤\n",
      "머신러닝 딥러닝 빅데이터 캡스톤\n"
     ]
    }
   ],
   "source": [
    "subject=[\"문제해결과알고리즘\", \"AI활용\", \"데이터분석\", \"머신러닝\", \"딥러닝\", \"빅데이터\", \"캡스톤\"] # 7개 과목\n",
    "\n",
    "for i in range(0, len(subject)): # i=0\n",
    "    for j in range(i+1, len(subject)):\n",
    "        for k in range(j+1, len(subject)): # k=j+1 = 2\n",
    "            for m in range(k+1, len(subject)): # m=k+1 = 3\n",
    "                print(subject[i], subject[j], subject[k], subject[m]) # 4과목 "
   ]
  },
  {
   "cell_type": "code",
   "execution_count": null,
   "metadata": {},
   "outputs": [],
   "source": []
  }
 ],
 "metadata": {
  "kernelspec": {
   "display_name": "Python 3",
   "language": "python",
   "name": "python3"
  },
  "language_info": {
   "codemirror_mode": {
    "name": "ipython",
    "version": 3
   },
   "file_extension": ".py",
   "mimetype": "text/x-python",
   "name": "python",
   "nbconvert_exporter": "python",
   "pygments_lexer": "ipython3",
   "version": "3.7.6"
  }
 },
 "nbformat": 4,
 "nbformat_minor": 4
}
