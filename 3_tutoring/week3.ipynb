{
 "cells": [
  {
   "cell_type": "code",
   "execution_count": 28,
   "metadata": {},
   "outputs": [
    {
     "name": "stdout",
     "output_type": "stream",
     "text": [
      "[선택정렬2 - 오름차순]\n",
      "\n",
      "선택정렬2 전: [5, 4, 2, 1, 3]\n",
      "현재 i (인덱스 번호):  0\n",
      "최솟값이 갱신됨:  4\n",
      "최솟값이 갱신됨:  2\n",
      "최솟값이 갱신됨:  1\n",
      "--- 최종 최솟값은  1\n",
      "--- 최종 최솟값이 들어있는 인덱스 번호는  3\n",
      "1 단계: [1, 4, 2, 5, 3]\n",
      "------------------------------\n",
      "현재 i (인덱스 번호):  1\n",
      "최솟값이 갱신됨:  2\n",
      "--- 최종 최솟값은  2\n",
      "--- 최종 최솟값이 들어있는 인덱스 번호는  2\n",
      "2 단계: [1, 2, 4, 5, 3]\n",
      "------------------------------\n",
      "현재 i (인덱스 번호):  2\n",
      "최솟값이 갱신됨:  3\n",
      "--- 최종 최솟값은  3\n",
      "--- 최종 최솟값이 들어있는 인덱스 번호는  4\n",
      "3 단계: [1, 2, 3, 5, 4]\n",
      "------------------------------\n",
      "현재 i (인덱스 번호):  3\n",
      "최솟값이 갱신됨:  4\n",
      "--- 최종 최솟값은  4\n",
      "--- 최종 최솟값이 들어있는 인덱스 번호는  4\n",
      "4 단계: [1, 2, 3, 4, 5]\n",
      "------------------------------\n",
      "총 데이터 교환 횟수: 4\n",
      "\n",
      "선택정렬2 후: [1, 2, 3, 4, 5]\n"
     ]
    }
   ],
   "source": [
    "def selectionsort2(nlist):\n",
    "    size=len(nlist) # list의 길이가 저장됨\n",
    "    cnt=0 # 데이터 교환 횟수\n",
    "\n",
    "    for i in range(size-1): # size-1을 하는 이유는 어차피 size-1번째 인덱스는 j for문을 돌때 +1을 해줘서, size-1과 size의 값을 비교하기 때문 \n",
    "        mindex=i # 차례대로 0, 1 , 2, 3이 들어감\n",
    "        print('현재 i (인덱스 번호): ',mindex) \n",
    "        for j in range(i+1,size): # nlist에서 0번째(5)를 제외한 그 다음칸 부터 nlist의 끝까지 반복 \n",
    "            if nlist[mindex]>nlist[j]: # 만약 nlist[0] > nlist[1] 이면, 즉 5 > 4 이면 \n",
    "                mindex=j # mindex에 nlist[1]의 값을 넣어줌(최솟값이 들어있는 인덱스 번호를 mindex로 갱신함\n",
    "                print('최솟값이 갱신됨: ',nlist[mindex])\n",
    "        \n",
    "        # for문을 다 돌고 나오면 최종 최솟값이 mindex에 저장되어 있음 \n",
    "        print('--- 최종 최솟값은 ',nlist[mindex])\n",
    "        print('--- 최종 최솟값이 들어있는 인덱스 번호는 ', mindex)\n",
    "        if mindex!=i: # 만약 mindex와 현재i값과 다르면, i번째 인덱스를 제외한 다른 곳에 최솟값이 저장된 부분이있다는 것이므로 정렬 연산이 일어나야 함\n",
    "            nlist[i],nlist[mindex]=nlist[mindex],nlist[i] # 현재 정렬을 하려는 i 인덱스에 저장된 값과, 최솟값이 저장되어 있는 인덱스 번호 속 값을 서로 바꿔줌 \n",
    "            cnt+=1 # cnt는 데이터 교환이 일어날 때(즉, 해당 if문이 실행되는 경우) 1씩 증가함\n",
    "        print(i+1,'단계:',nlist)\n",
    "        print('-'*30)\n",
    "\n",
    "    print('총 데이터 교환 횟수:',cnt)\n",
    "\n",
    "\n",
    "print('[선택정렬2 - 오름차순]')\n",
    "datalist=[5,4,2,1,3]\n",
    "print('\\n선택정렬2 전:',datalist)\n",
    "selectionsort2(datalist)\n",
    "print('\\n선택정렬2 후:',datalist)\n",
    "    "
   ]
  },
  {
   "cell_type": "code",
   "execution_count": null,
   "metadata": {},
   "outputs": [],
   "source": []
  }
 ],
 "metadata": {
  "kernelspec": {
   "display_name": "Python 3",
   "language": "python",
   "name": "python3"
  },
  "language_info": {
   "codemirror_mode": {
    "name": "ipython",
    "version": 3
   },
   "file_extension": ".py",
   "mimetype": "text/x-python",
   "name": "python",
   "nbconvert_exporter": "python",
   "pygments_lexer": "ipython3",
   "version": "3.7.6"
  }
 },
 "nbformat": 4,
 "nbformat_minor": 4
}
